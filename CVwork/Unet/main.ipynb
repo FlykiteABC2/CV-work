{
 "cells": [
  {
   "cell_type": "markdown",
   "metadata": {},
   "source": [
    "## 1.项目背景\n",
    "### 1.1啥是脂肪肝\n",
    "现在人们的日常生活方式和饮食结构发生了巨大的变化。大概就是：吃好了，动少了。\n",
    "\n",
    "导致体内的过量的甘油三酯无法代谢，最终聚集在肝细胞内，正常肝脏就变成脂肪肝。\n",
    "\n",
    "![](https://ai-studio-static-online.cdn.bcebos.com/21d3a2c059f240d285c1ccbd380e06f242e810c56540480ca74295185b82f9cb)\n",
    "\n",
    "### 1.2 判断是否脂肪肝\n",
    "在医学影像中，判断患者是否有脂肪肝。可以通过CT或者B超技术手段进行判断。经相关学者研究得出CT的脂肪肝检出比例高于B超，用于脂肪肝诊断时CT检出率更高，特异性更强。\n",
    "\n",
    "在CT检查中，是通过计算肝脏与脾脏的CT值的比值来判断患者是否有脂肪肝，和脂肪肝的严重程度。参照中华医学会肝病学分会制定的标准：肝脾CT值大于1的为正常肝脏。肝脾CT比值在[0.7,1.0]间为轻度脂肪肝，在[0.5,0.7]间为中度脂肪肝，小于0.5为重度脂肪肝。\n",
    "\n",
    "日常工作中，放射医师需要手动对肝、脾最大层面选取一定范围的ROI，然后计算两者的ROI范围内的CT总值，然后计算两者CT总值的比值，可见在CT影像上判断患者是否脂肪肝还是具有较大的工作量。\n",
    "\n",
    "### 1.3如何通过深度学习实现自动判定脂肪肝和严重程度。\n",
    "在日常医疗工作中，存在各种各样繁琐、重复的工作。在ct中判断脂肪肝就是一种。\n",
    "\n",
    "现在就通过深度学习中的语义分割来辅助医生来解决手动测量脂肪肝的问题。\n",
    "\n",
    "具体方法如下图：\n",
    "\n",
    "![](https://ai-studio-static-online.cdn.bcebos.com/f51bf17b712345c38b92739eb93f86a50543926b38164d5dbc760c2cfaaa2e14)\n",
    "\n",
    "\n"
   ]
  },
  {
   "cell_type": "markdown",
   "metadata": {},
   "source": [
    "## 2.数据准备\n",
    "数据来源：医学图像十项全能挑战赛，对包含肝脏的数据，和包含脾脏的比赛数据进行整合。生产同事具有肝脏和脾脏掩膜的分割数据。\n",
    "\n",
    "数量：88个带掩膜的数据。4个测试集。\n",
    "\n",
    "标签：背景为0，肝脏为1，脾脏为2\n",
    "\n",
    "格式：NIFIT格式。扩展名:nii.gz\n",
    "\n",
    "数据用itk-snap读取展示如下：\n",
    "\n",
    "![](https://ai-studio-static-online.cdn.bcebos.com/1e60c3b425ec4849a529c069a988577f66124b0795ad492da17cdde68c1849ad)\n"
   ]
  },
  {
   "cell_type": "markdown",
   "metadata": {},
   "source": [
    "## 3.MedicalSeg医疗3D分割工具\n",
    "训练框架采用[PaddleSeg](https://github.com/PaddlePaddle/PaddleSeg) 分割套件中的MedicalSeg医疗3D分割工具。\n",
    "\n",
    "因为这个项目主要想用人工智能来解决医学临床问题。分割套件的使用方式不多说，具体的使用方式，可以看我这个项目\n",
    "\n",
    "> 快速上手PaddleSeg的医疗3D分割套件MedicalSeg：https://aistudio.baidu.com/aistudio/projectdetail/3878920?contributionType=1&sUid=181096&shared=1&ts=1677648488476"
   ]
  },
  {
   "cell_type": "markdown",
   "metadata": {},
   "source": [
    "## 4.分割流程\n",
    "1. clone PaddleSeg分割套件。\n",
    "2. 解压数据。\n",
    "3. 安装分割套件对应的依赖。\n",
    "4. 对数据进行预处理。把医疗文件转换成适合模型读取的numpy文件。\n",
    "5. 开始训练\n",
    "6. 计算模型在验证集的分割得分。\n",
    "7. 导出模型方面预测。"
   ]
  },
  {
   "cell_type": "code",
   "execution_count": null,
   "metadata": {
    "scrolled": true
   },
   "outputs": [],
   "source": [
    "#1.clone PaddleSeg分割套件。\n",
    "!git clone https://gitee.com/PaddlePaddle/PaddleSeg.git"
   ]
  },
  {
   "cell_type": "code",
   "execution_count": null,
   "metadata": {
    "scrolled": true,
    "tags": []
   },
   "outputs": [],
   "source": [
    "#2.解压数据\n",
    "!unzip -o /home/aistudio/data/data194126/SpleenAndLiver.zip -d /home/aistudio/work"
   ]
  },
  {
   "cell_type": "code",
   "execution_count": null,
   "metadata": {
    "collapsed": false,
    "jupyter": {
     "outputs_hidden": false
    },
    "scrolled": true,
    "tags": []
   },
   "outputs": [],
   "source": [
    "#3.安装分割套件对应的依赖。\r\n",
    "%cd PaddleSeg/contrib/MedicalSeg\r\n",
    "\r\n",
    "!pip install -r requirements.txt -i https://mirror.baidu.com/pypi/simple\r\n"
   ]
  },
  {
   "cell_type": "code",
   "execution_count": 3,
   "metadata": {
    "execution": {
     "iopub.execute_input": "2023-02-26T09:07:11.909623Z",
     "iopub.status.busy": "2023-02-26T09:07:11.908802Z",
     "iopub.status.idle": "2023-02-26T09:07:12.141243Z",
     "shell.execute_reply": "2023-02-26T09:07:12.139878Z",
     "shell.execute_reply.started": "2023-02-26T09:07:11.909581Z"
    },
    "scrolled": true,
    "tags": []
   },
   "outputs": [],
   "source": [
    "#需要把自己自定义的预处理文件，复制到PaddleSeg/contrib/MedicalSeg/tools 文件中，不然无法运行\n",
    "!cp /home/aistudio/prepare_SpleenAndLiver.py /home/aistudio/PaddleSeg/contrib/MedicalSeg/tools/prepare_SpleenAndLiver.py"
   ]
  },
  {
   "cell_type": "code",
   "execution_count": null,
   "metadata": {
    "scrolled": true,
    "tags": []
   },
   "outputs": [],
   "source": [
    "#4. 对数据进行预处理。把医疗文件转换成适合模型读取的numpy文件。\n",
    "#运行预处理文件，把SimpleITK文件转换成numpy文件，生成对应的train.txt和val.txt，和数据参数有关的json文件\n",
    "!python tools/prepare_SpleenAndLiver.py"
   ]
  },
  {
   "cell_type": "code",
   "execution_count": null,
   "metadata": {
    "scrolled": true,
    "tags": []
   },
   "outputs": [],
   "source": [
    "#5. 开始训练\n",
    "!python3 train.py --config /home/aistudio/SpleenAndLiver.yml \\\n",
    "    --save_dir  \"/home/aistudio/output/SpleenAndLiver_vent_128\" \\\n",
    "    --save_interval 70 --log_iters 20 \\\n",
    "    --keep_checkpoint_max 4 \\\n",
    "    --num_workers 1 --do_eval --use_vdl "
   ]
  },
  {
   "cell_type": "code",
   "execution_count": null,
   "metadata": {
    "scrolled": true,
    "tags": []
   },
   "outputs": [],
   "source": [
    "#6. 计算模型在验证集的分割得分。\n",
    "#训练了3000多轮。肝脏的分割精度有0.923，脾脏的分割精度0.899\n",
    "\"\"\"\n",
    "2023-02-27 20:18:38 [INFO]\t[EVAL] #Images: 18, Dice: 0.9391, Loss: 0.120879\n",
    "2023-02-27 20:18:38 [INFO]\t[EVAL] Class dice: \n",
    "[0.9946 0.9229 0.8998]\n",
    "\"\"\"\n",
    "!python3 val.py --config /home/aistudio/SpleenAndLiver.yml \\\n",
    "--model_path /home/aistudio/output/SpleenAndLiver_vent_128/best_model/model.pdparams \\\n",
    "--save_dir  /home/aistudio/output/SpleenAndLiver_vent_128/best_model"
   ]
  },
  {
   "cell_type": "code",
   "execution_count": null,
   "metadata": {
    "scrolled": true,
    "tags": []
   },
   "outputs": [],
   "source": [
    "#7. 导出模型方面预测。\n",
    "!python export.py --config /home/aistudio/SpleenAndLiver.yml \\\n",
    "--model_path /home/aistudio/output/SpleenAndLiver_vent_128/best_model/model.pdparams \\\n",
    "--save_dir /home/aistudio/export_model"
   ]
  },
  {
   "cell_type": "markdown",
   "metadata": {},
   "source": [
    "## 5.预测，把预测结果生成NIFIT格式\n",
    "MedicalSeg需要加载npy文件进行预测。生成结果也是npy文件，但是判断脂肪肝，需要在原始数据上进行。\n",
    "不然会影响数据的真实性。因为需要对预测的mask结果重新采样成原始数据的大小、形状、空间等。"
   ]
  },
  {
   "cell_type": "code",
   "execution_count": 5,
   "metadata": {
    "execution": {
     "iopub.execute_input": "2023-03-01T06:53:34.590566Z",
     "iopub.status.busy": "2023-03-01T06:53:34.589816Z",
     "iopub.status.idle": "2023-03-01T06:53:35.882961Z",
     "shell.execute_reply": "2023-03-01T06:53:35.881924Z",
     "shell.execute_reply.started": "2023-03-01T06:53:34.590530Z"
    },
    "scrolled": true
   },
   "outputs": [],
   "source": [
    "#预测用到的函数和类\r\n",
    "import numpy as np \r\n",
    "import SimpleITK as sitk\r\n",
    "from paddle.inference import create_predictor,Config\r\n",
    "\r\n",
    "class Predictor:\r\n",
    "    \"\"\"\r\n",
    "    用于预测的类\r\n",
    "    \"\"\"\r\n",
    "    def __init__(self,model_path,param_path):\r\n",
    "        self.pred_cfg = Config(model_path,param_path)\r\n",
    "        self.pred_cfg.disable_glog_info()\r\n",
    "        self.pred_cfg.enable_memory_optim()\r\n",
    "        self.pred_cfg.switch_ir_optim(True)\r\n",
    "        self.pred_cfg.enable_use_gpu(100, 0)\r\n",
    "        # self.pred_cfg.disable_gpu()\r\n",
    "        self.predictor = create_predictor(self.pred_cfg)\r\n",
    "\r\n",
    "    def predict(self, data):\r\n",
    "        input_names = self.predictor.get_input_names()\r\n",
    "        input_handle = self.predictor.get_input_handle(input_names[0])\r\n",
    "        output_names = self.predictor.get_output_names()\r\n",
    "        output_handle = self.predictor.get_output_handle(output_names[0])\r\n",
    "        input_handle.reshape(data.shape)\r\n",
    "        input_handle.copy_from_cpu(data)\r\n",
    "        self.predictor.run()\r\n",
    "        result = output_handle.copy_to_cpu()\r\n",
    "        return result\r\n",
    "\r\n",
    "def resampleImage(sitkimg,new_shape,new_spacing):\r\n",
    "    #对SimpleITK 的数据进行重新采样。重新设置spacing和shape\r\n",
    "    resampler = sitk.ResampleImageFilter()\r\n",
    "    resampler.SetReferenceImage(sitkimg)  \r\n",
    "    resampler.SetOutputSpacing(new_spacing)\r\n",
    "    resampler.SetSize(new_shape)\r\n",
    "    resampler.SetTransform(sitk.Transform(3, sitk.sitkIdentity))\r\n",
    "    resampler.SetInterpolator(sitk.sitkLinear)\r\n",
    "    return resampler.Execute(sitkimg)  \r\n",
    "\r\n",
    "def crop_wwwc(sitkimg,max_v,min_v):\r\n",
    "    #对SimpleITK的数据进行窗宽窗位的裁剪，应与训练前对数据预处理时一致\r\n",
    "    intensityWindow = sitk.IntensityWindowingImageFilter()\r\n",
    "    intensityWindow.SetWindowMaximum(max_v)\r\n",
    "    intensityWindow.SetWindowMinimum(min_v)\r\n",
    "    return intensityWindow.Execute(sitkimg)\r\n",
    "\r\n",
    "def GetLargestConnectedCompont(binarysitk_image):\r\n",
    "    # 最大连通域提取,binarysitk_image 是掩膜\r\n",
    "    cc = sitk.ConnectedComponent(binarysitk_image)\r\n",
    "    stats = sitk.LabelIntensityStatisticsImageFilter()\r\n",
    "    stats.SetGlobalDefaultNumberOfThreads(8)\r\n",
    "    stats.Execute(cc, binarysitk_image)#根据掩膜计算统计量\r\n",
    "    # stats.\r\n",
    "    maxlabel = 0\r\n",
    "    maxsize = 0\r\n",
    "    for l in stats.GetLabels():#掩膜中存在的标签类别\r\n",
    "        size = stats.GetPhysicalSize(l)\r\n",
    "        if maxsize < size:#只保留最大的标签类别\r\n",
    "            maxlabel = l\r\n",
    "            maxsize = size\r\n",
    "    labelmaskimage = sitk.GetArrayFromImage(cc)\r\n",
    "    outmask = labelmaskimage.copy()\r\n",
    "    if len(stats.GetLabels()):\r\n",
    "        outmask[labelmaskimage == maxlabel] = 255\r\n",
    "        outmask[labelmaskimage != maxlabel] = 0\r\n",
    "    return outmask\r\n"
   ]
  },
  {
   "cell_type": "code",
   "execution_count": null,
   "metadata": {
    "scrolled": true,
    "tags": []
   },
   "outputs": [],
   "source": [
    "#GPU下进行预测\n",
    "\n",
    "origin_path = '/home/aistudio/work/SpleenAndLiver/test/liver_91_0000.nii.gz'\n",
    "origin = sitk.ReadImage(origin_path)\n",
    "\n",
    "new_shape = (128, 128, 128) #xyz #这个形状与训练的对数据预处理的形状要一致\n",
    "image_shape = origin.GetSize()\n",
    "spacing = origin.GetSpacing()\n",
    "new_spacing = tuple((image_shape / np.array(new_shape)) *spacing) \n",
    "\n",
    "itk_img_res = resampleImage(origin,new_shape,new_spacing)  # 得到重新采样后的图像\n",
    "itk_img_res = crop_wwwc(itk_img_res,max_v=300,min_v=-100)#和预处理文件一致\n",
    "npy_img = sitk.GetArrayFromImage(itk_img_res).astype(\"float32\")\n",
    "input_data = np.expand_dims(npy_img,axis=0)\n",
    "if input_data.max() > 0: #归一化\n",
    "    input_data = input_data / input_data.max()\n",
    "input_data = np.expand_dims(input_data,axis=0)\n",
    "print(f\"输入网络前数据的形状:{input_data.shape}\")#shape(1, 1, 128, 128, 256)\n",
    "\n",
    "#创建预测器，加载模型进行预测\n",
    "predictor = Predictor('/home/aistudio/export_model/model.pdmodel',\n",
    "                        '/home/aistudio/export_model/model.pdiparams')\n",
    "output_data = predictor.predict(input_data)\n",
    "print(f\"预测结果的形状：{output_data.shape}\")#shape (1, 128, 128, 256)\n",
    "\n",
    "#加载3d模型预测的mask，由numpy 转换成SimpleITK格式\n",
    "data = np.squeeze(output_data)\n",
    "mask_itk_new = sitk.GetImageFromArray(data)\n",
    "mask_itk_new.SetSpacing(new_spacing)\n",
    "mask_itk_new.SetOrigin(origin.GetOrigin())\n",
    "mask_itk_new.SetDirection(origin.GetDirection())\n",
    "mask_itk_new = sitk.Cast(mask_itk_new,sitk.sitkUInt8)\n",
    "\n",
    "x,y,z = mask_itk_new.GetSize()\n",
    "mask_array = np.zeros((z,y,x),np.uint8)\n",
    "max_value = np.max(sitk.GetArrayViewFromImage(mask_itk_new))\n",
    "#对转换成SimpleITK的预测mask进行处理，只保留最大连通域，去除小目标\n",
    "for index in range(1,max_value+1):\n",
    "    sitk_seg = sitk.BinaryThreshold(mask_itk_new, lowerThreshold=index, upperThreshold=index, insideValue=255, outsideValue=0)\n",
    "    # step2.形态学开运算\n",
    "    BMO = sitk.BinaryMorphologicalOpeningImageFilter()\n",
    "    BMO.SetKernelType(sitk.sitkNearestNeighbor)\n",
    "    BMO.SetKernelRadius(2)\n",
    "    BMO.SetForegroundValue(1)\n",
    "    sitk_open = BMO.Execute(sitk_seg!=0)\n",
    "    #提取每个椎体的最大连通域提取，为了去掉小目标\n",
    "    sitk_open_array = GetLargestConnectedCompont(sitk_open)\n",
    "    mask_array[sitk_open_array==255] = int(index)\n",
    "\n",
    "#对处理好的预测mask，重采样原始的size 和spacing\n",
    "sitkMask = sitk.GetImageFromArray(mask_array)\n",
    "sitkMask.CopyInformation(mask_itk_new)\n",
    "resampler = sitk.ResampleImageFilter()\n",
    "resampler.SetReferenceImage(sitkMask)  # 需要重新采样的目标图像\n",
    "resampler.SetSize(origin.GetSize())\n",
    "resampler.SetOutputSpacing(origin.GetSpacing())\n",
    "resampler.SetTransform(sitk.Transform(3, sitk.sitkIdentity))\n",
    "resampler.SetInterpolator(sitk.sitkNearestNeighbor)\n",
    "\n",
    "Mask = resampler.Execute(sitkMask)  # 得到重新采样后的图像\n",
    "Mask.CopyInformation(origin)\n",
    "sitk.WriteImage(Mask,'/home/aistudio/pred_data.nii.gz')\n",
    "print(\"预测成功！\")"
   ]
  },
  {
   "cell_type": "markdown",
   "metadata": {},
   "source": [
    "使用itk-snap加载标签文件和预测数据文件，看到模型有较好的预测能力，但是细节上达不到很好的水平。\n",
    "可以增加样本、更换模型，增加训练轮次来改善模型精度。\n",
    "![](https://ai-studio-static-online.cdn.bcebos.com/a589e481d68c45e6b818f0f04a74d516d251cb1cf5af412283257db010bae1bb)\n"
   ]
  },
  {
   "cell_type": "markdown",
   "metadata": {},
   "source": [
    "## 6. 自动判断是否脂肪肝和脂肪肝的严重程度\n",
    "上面已经对原始数据进行预测，并生成mask，然后再转换成原始数据同样的参数。\n",
    "\n",
    "现在有处理好的mask文件了。\n",
    "\n",
    "可以开始对肝脏和脾脏随机割立方体，来计算平均比值。\n",
    "\n",
    "具体方法如下：\n",
    "1. 根据mask结果，缩小肝脏和脾脏的范围。\n",
    "2. 先对肝脏随机获取5个立方体。\n",
    "3. 再对脾脏随机获取5个立方体。\n",
    "4. 5个肝脏立方体和5个脾脏立方体。两两配对成30多对子。\n",
    "5. 计算每个对子的CT比值。再计算所有CT比值的平均CT比值。\n",
    "6. 根据医学标准来划分是否有脂肪肝，和脂肪肝的严重程度。"
   ]
  },
  {
   "cell_type": "code",
   "execution_count": 11,
   "metadata": {
    "execution": {
     "iopub.execute_input": "2023-03-01T07:36:29.626284Z",
     "iopub.status.busy": "2023-03-01T07:36:29.625502Z",
     "iopub.status.idle": "2023-03-01T07:37:22.616858Z",
     "shell.execute_reply": "2023-03-01T07:37:22.616031Z",
     "shell.execute_reply.started": "2023-03-01T07:36:29.626248Z"
    },
    "scrolled": true,
    "tags": []
   },
   "outputs": [
    {
     "name": "stdout",
     "output_type": "stream",
     "text": [
      "开始处理类别：1\r\n",
      "1个立方体的CT总值:[205964.0]\r\n",
      "2个立方体的CT总值:[205964.0, 224356.0]\r\n",
      "3个立方体的CT总值:[205964.0, 224356.0, 212064.0]\r\n",
      "4个立方体的CT总值:[205964.0, 224356.0, 212064.0, 209330.0]\r\n",
      "5个立方体的CT总值:[205964.0, 224356.0, 212064.0, 209330.0, 202258.0]\r\n",
      "6个立方体的CT总值:[205964.0, 224356.0, 212064.0, 209330.0, 202258.0, 209558.0]\r\n",
      "开始处理类别：2\r\n",
      "1个立方体的CT总值:[203052.0]\r\n",
      "2个立方体的CT总值:[203052.0, 209845.0]\r\n",
      "3个立方体的CT总值:[203052.0, 209845.0, 221099.0]\r\n",
      "4个立方体的CT总值:[203052.0, 209845.0, 221099.0, 221029.0]\r\n",
      "5个立方体的CT总值:[203052.0, 209845.0, 221099.0, 221029.0, 223527.0]\r\n",
      "6个立方体的CT总值:[203052.0, 209845.0, 221099.0, 221029.0, 223527.0, 206339.0]\r\n",
      "\r\n",
      "*********************************\r\n",
      "平均CT比值为0.9847654700279236\r\n",
      "结果为:轻度脂肪肝\r\n"
     ]
    }
   ],
   "source": [
    "import SimpleITK as sitk\r\n",
    "import random\r\n",
    "import numpy as np\r\n",
    "import itertools\r\n",
    "def maskcroppingbox(mask):\r\n",
    "    #寻找mask范围的3D最大边界范围\r\n",
    "    mask_2 = np.argwhere(mask)\r\n",
    "    (zstart, ystart, xstart), (zstop, ystop, xstop) = mask_2.min(axis=0), mask_2.max(axis=0) + 1\r\n",
    "    #让变量好看点，保证max是最大值\r\n",
    "    if zstart- zstop < 0 :  zmax,zmin = zstop,zstart\r\n",
    "    if ystart- ystop < 0 :  ymax,ymin = ystop,ystart\r\n",
    "    if xstart- xstop < 0 :  xmax,xmin = xstop,xstart\r\n",
    "    return zmax,zmin,ymax,ymin,xmax,xmin\r\n",
    "\r\n",
    "#读取原始数据 和预测的mask数据\r\n",
    "imgSitk = sitk.ReadImage(origin_path)\r\n",
    "maskSitk = sitk.ReadImage('/home/aistudio/pred_data.nii.gz')\r\n",
    "\r\n",
    "imgNp = sitk.GetArrayFromImage(imgSitk)\r\n",
    "maskNp = sitk.GetArrayFromImage(maskSitk)\r\n",
    "\r\n",
    "#先定义需要扣出 变成为10mm的立方体\r\n",
    "#因为CT数据每个体素之间都有物理空间的。以mm为单位。\r\n",
    "length = 10 \r\n",
    "\r\n",
    "#label是一个字典。键是类别标签。值是一个列表，用来放对应类别的立方体的ct值总数\r\n",
    "#例如要肝脏和脾脏各随机割5个立方体。label={1:[100,200,300,200,299],2:[300,200,300,200,110]}\r\n",
    "label  = np.unique(maskNp)\r\n",
    "label = sorted(label, reverse=False)\r\n",
    "label.remove(0)\r\n",
    "label = {1:list(),2:list()}\r\n",
    "\r\n",
    "#循环肝脏 和脾脏，割完肝脏，再割脾脏\r\n",
    "for index,value in label.items():\r\n",
    "    print(f\"开始处理类别：{index}\")\r\n",
    "    while len(value) <6: #设置6，代表我打算割五个立方体\r\n",
    "        temp = maskNp.copy()\r\n",
    "        temp[temp!=index] = 0\r\n",
    "        temp[temp>0] = 1\r\n",
    "\r\n",
    "        spacingx,spacingy,spacingz = maskSitk.GetSpacing()\r\n",
    "        # spacing物理单位是mm，因此立方体的长度除以spacing就可得需要多少个像素点。\r\n",
    "        lengthx = round(length/spacingx)\r\n",
    "        lengthy = round(length/spacingy)\r\n",
    "        lengthz = round(length/spacingz)\r\n",
    "\r\n",
    "        #找到器官的掩膜的最大边界范围。缩小范围\r\n",
    "        zmax,zmin,ymax,ymin,xmax,xmin = maskcroppingbox(temp)\r\n",
    "\r\n",
    "        #在3Dmask中随机获取个坐标。\r\n",
    "        posZ = random.randint(0,zmax-zmin)+zmin\r\n",
    "        posY = random.randint(0,ymax-ymin)+ymin\r\n",
    "        posX = random.randint(0,xmax-xmin)+xmin\r\n",
    "        #这个坐标是像素点坐标。坐标为中心，生成立方体的坐标，从mask中割出来\r\n",
    "        sliceZ = slice(posZ,posZ+lengthz)\r\n",
    "        sliceY = slice(posY,posY+lengthy)\r\n",
    "        sliceX = slice(posX,posX+lengthx)\r\n",
    "        block = temp[sliceZ,sliceY,sliceX]\r\n",
    "\r\n",
    "        #如果这个立方体都在3Dmask里面，那np.sum（）等于lengthx*lengthy*lengthz。因为我设置了mask的值都是1\r\n",
    "        if np.sum(block) == lengthx*lengthy*lengthz:\r\n",
    "            value.append(np.sum(imgNp[sliceZ,sliceY,sliceX]))\r\n",
    "            print(f\"{len(value)}个立方体的CT总值:{value}\")\r\n",
    "\r\n",
    "#现在有5个肝脏的立方体和5个脾脏的立方体，找出两个的所有组合，然后计算它们比值\r\n",
    "tupleNums = list(itertools.product(label[1], label[2]))\r\n",
    "cts = [tupleNum[0]/tupleNum[1] for tupleNum in tupleNums]\r\n",
    "#再对这个比较做平均值\r\n",
    "mean_ct = np.mean(cts)\r\n",
    "print(\"\\n*********************************\")\r\n",
    "print(f\"平均CT比值为{mean_ct}\")\r\n",
    "if mean_ct <1:\r\n",
    "    if mean_ct <1.0 and  mean_ct >=0.7:\r\n",
    "        print(\"结果为:轻度脂肪肝\")\r\n",
    "    elif mean_ct <0.7 and mean_ct >= 0.5:\r\n",
    "        print(\"结果为:中度脂肪肝\")\r\n",
    "    else:\r\n",
    "        print(\"结果为:重度脂肪肝\")\r\n",
    "else:\r\n",
    "    print(\"结果为:非脂肪肝\")"
   ]
  },
  {
   "cell_type": "markdown",
   "metadata": {},
   "source": [
    "## 7. 总结\n",
    "这个项目虽然简单，都是基于3D分割，然后增加一些后处理。但是得确提供解决一个实际工作问题的方法。\n"
   ]
  }
 ],
 "metadata": {
  "kernelspec": {
   "display_name": "Python 3",
   "language": "python",
   "name": "py35-paddle1.2.0"
  },
  "language_info": {
   "codemirror_mode": {
    "name": "ipython",
    "version": 3
   },
   "file_extension": ".py",
   "mimetype": "text/x-python",
   "name": "python",
   "nbconvert_exporter": "python",
   "pygments_lexer": "ipython3",
   "version": "3.7.4"
  }
 },
 "nbformat": 4,
 "nbformat_minor": 4
}
